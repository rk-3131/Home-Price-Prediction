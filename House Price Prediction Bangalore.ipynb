{
 "cells": [
  {
   "cell_type": "code",
   "execution_count": 1,
   "id": "dd539813",
   "metadata": {},
   "outputs": [],
   "source": [
    "import pandas as pd\n",
    "import numpy as np\n",
    "import matplotlib.pyplot as plt\n",
    "%matplotlib inline\n",
    "import matplotlib\n",
    "matplotlib.rcParams['figure.figsize'] = (20, 10)\n",
    "# Above line of code will implement every figure implemented using matplotlib of size 20 X 10\n",
    "# There are differnt parameters such as figure size, font sizes, line widths, and more that can be implemented"
   ]
  },
  {
   "cell_type": "code",
   "execution_count": 2,
   "id": "8100a5e8",
   "metadata": {},
   "outputs": [],
   "source": [
    "file = pd.read_csv(\"Datasets/Bengaluru_House_Data.csv\")"
   ]
  },
  {
   "cell_type": "code",
   "execution_count": 3,
   "id": "e3e1e528",
   "metadata": {},
   "outputs": [
    {
     "data": {
      "text/html": [
       "<div>\n",
       "<style scoped>\n",
       "    .dataframe tbody tr th:only-of-type {\n",
       "        vertical-align: middle;\n",
       "    }\n",
       "\n",
       "    .dataframe tbody tr th {\n",
       "        vertical-align: top;\n",
       "    }\n",
       "\n",
       "    .dataframe thead th {\n",
       "        text-align: right;\n",
       "    }\n",
       "</style>\n",
       "<table border=\"1\" class=\"dataframe\">\n",
       "  <thead>\n",
       "    <tr style=\"text-align: right;\">\n",
       "      <th></th>\n",
       "      <th>area_type</th>\n",
       "      <th>availability</th>\n",
       "      <th>location</th>\n",
       "      <th>size</th>\n",
       "      <th>society</th>\n",
       "      <th>total_sqft</th>\n",
       "      <th>bath</th>\n",
       "      <th>balcony</th>\n",
       "      <th>price</th>\n",
       "    </tr>\n",
       "  </thead>\n",
       "  <tbody>\n",
       "    <tr>\n",
       "      <th>0</th>\n",
       "      <td>Super built-up  Area</td>\n",
       "      <td>19-Dec</td>\n",
       "      <td>Electronic City Phase II</td>\n",
       "      <td>2 BHK</td>\n",
       "      <td>Coomee</td>\n",
       "      <td>1056</td>\n",
       "      <td>2.0</td>\n",
       "      <td>1.0</td>\n",
       "      <td>39.07</td>\n",
       "    </tr>\n",
       "    <tr>\n",
       "      <th>1</th>\n",
       "      <td>Plot  Area</td>\n",
       "      <td>Ready To Move</td>\n",
       "      <td>Chikka Tirupathi</td>\n",
       "      <td>4 Bedroom</td>\n",
       "      <td>Theanmp</td>\n",
       "      <td>2600</td>\n",
       "      <td>5.0</td>\n",
       "      <td>3.0</td>\n",
       "      <td>120.00</td>\n",
       "    </tr>\n",
       "    <tr>\n",
       "      <th>2</th>\n",
       "      <td>Built-up  Area</td>\n",
       "      <td>Ready To Move</td>\n",
       "      <td>Uttarahalli</td>\n",
       "      <td>3 BHK</td>\n",
       "      <td>NaN</td>\n",
       "      <td>1440</td>\n",
       "      <td>2.0</td>\n",
       "      <td>3.0</td>\n",
       "      <td>62.00</td>\n",
       "    </tr>\n",
       "    <tr>\n",
       "      <th>3</th>\n",
       "      <td>Super built-up  Area</td>\n",
       "      <td>Ready To Move</td>\n",
       "      <td>Lingadheeranahalli</td>\n",
       "      <td>3 BHK</td>\n",
       "      <td>Soiewre</td>\n",
       "      <td>1521</td>\n",
       "      <td>3.0</td>\n",
       "      <td>1.0</td>\n",
       "      <td>95.00</td>\n",
       "    </tr>\n",
       "    <tr>\n",
       "      <th>4</th>\n",
       "      <td>Super built-up  Area</td>\n",
       "      <td>Ready To Move</td>\n",
       "      <td>Kothanur</td>\n",
       "      <td>2 BHK</td>\n",
       "      <td>NaN</td>\n",
       "      <td>1200</td>\n",
       "      <td>2.0</td>\n",
       "      <td>1.0</td>\n",
       "      <td>51.00</td>\n",
       "    </tr>\n",
       "  </tbody>\n",
       "</table>\n",
       "</div>"
      ],
      "text/plain": [
       "              area_type   availability                  location       size  \\\n",
       "0  Super built-up  Area         19-Dec  Electronic City Phase II      2 BHK   \n",
       "1            Plot  Area  Ready To Move          Chikka Tirupathi  4 Bedroom   \n",
       "2        Built-up  Area  Ready To Move               Uttarahalli      3 BHK   \n",
       "3  Super built-up  Area  Ready To Move        Lingadheeranahalli      3 BHK   \n",
       "4  Super built-up  Area  Ready To Move                  Kothanur      2 BHK   \n",
       "\n",
       "   society total_sqft  bath  balcony   price  \n",
       "0  Coomee        1056   2.0      1.0   39.07  \n",
       "1  Theanmp       2600   5.0      3.0  120.00  \n",
       "2      NaN       1440   2.0      3.0   62.00  \n",
       "3  Soiewre       1521   3.0      1.0   95.00  \n",
       "4      NaN       1200   2.0      1.0   51.00  "
      ]
     },
     "execution_count": 3,
     "metadata": {},
     "output_type": "execute_result"
    }
   ],
   "source": [
    "file.head()"
   ]
  },
  {
   "cell_type": "code",
   "execution_count": 4,
   "id": "ac715b44",
   "metadata": {},
   "outputs": [],
   "source": [
    "# Lets drop some columns which I think are not that useful"
   ]
  },
  {
   "cell_type": "code",
   "execution_count": 5,
   "id": "c2c1b0c3",
   "metadata": {},
   "outputs": [],
   "source": [
    "file = file.drop(['area_type', 'availability', 'society', 'balcony'], axis='columns')"
   ]
  },
  {
   "cell_type": "code",
   "execution_count": 6,
   "id": "4dc40294",
   "metadata": {},
   "outputs": [
    {
     "data": {
      "text/html": [
       "<div>\n",
       "<style scoped>\n",
       "    .dataframe tbody tr th:only-of-type {\n",
       "        vertical-align: middle;\n",
       "    }\n",
       "\n",
       "    .dataframe tbody tr th {\n",
       "        vertical-align: top;\n",
       "    }\n",
       "\n",
       "    .dataframe thead th {\n",
       "        text-align: right;\n",
       "    }\n",
       "</style>\n",
       "<table border=\"1\" class=\"dataframe\">\n",
       "  <thead>\n",
       "    <tr style=\"text-align: right;\">\n",
       "      <th></th>\n",
       "      <th>location</th>\n",
       "      <th>size</th>\n",
       "      <th>total_sqft</th>\n",
       "      <th>bath</th>\n",
       "      <th>price</th>\n",
       "    </tr>\n",
       "  </thead>\n",
       "  <tbody>\n",
       "    <tr>\n",
       "      <th>0</th>\n",
       "      <td>Electronic City Phase II</td>\n",
       "      <td>2 BHK</td>\n",
       "      <td>1056</td>\n",
       "      <td>2.0</td>\n",
       "      <td>39.07</td>\n",
       "    </tr>\n",
       "    <tr>\n",
       "      <th>1</th>\n",
       "      <td>Chikka Tirupathi</td>\n",
       "      <td>4 Bedroom</td>\n",
       "      <td>2600</td>\n",
       "      <td>5.0</td>\n",
       "      <td>120.00</td>\n",
       "    </tr>\n",
       "    <tr>\n",
       "      <th>2</th>\n",
       "      <td>Uttarahalli</td>\n",
       "      <td>3 BHK</td>\n",
       "      <td>1440</td>\n",
       "      <td>2.0</td>\n",
       "      <td>62.00</td>\n",
       "    </tr>\n",
       "    <tr>\n",
       "      <th>3</th>\n",
       "      <td>Lingadheeranahalli</td>\n",
       "      <td>3 BHK</td>\n",
       "      <td>1521</td>\n",
       "      <td>3.0</td>\n",
       "      <td>95.00</td>\n",
       "    </tr>\n",
       "    <tr>\n",
       "      <th>4</th>\n",
       "      <td>Kothanur</td>\n",
       "      <td>2 BHK</td>\n",
       "      <td>1200</td>\n",
       "      <td>2.0</td>\n",
       "      <td>51.00</td>\n",
       "    </tr>\n",
       "  </tbody>\n",
       "</table>\n",
       "</div>"
      ],
      "text/plain": [
       "                   location       size total_sqft  bath   price\n",
       "0  Electronic City Phase II      2 BHK       1056   2.0   39.07\n",
       "1          Chikka Tirupathi  4 Bedroom       2600   5.0  120.00\n",
       "2               Uttarahalli      3 BHK       1440   2.0   62.00\n",
       "3        Lingadheeranahalli      3 BHK       1521   3.0   95.00\n",
       "4                  Kothanur      2 BHK       1200   2.0   51.00"
      ]
     },
     "execution_count": 6,
     "metadata": {},
     "output_type": "execute_result"
    }
   ],
   "source": [
    "file.head()"
   ]
  },
  {
   "cell_type": "code",
   "execution_count": 7,
   "id": "933feb97",
   "metadata": {},
   "outputs": [
    {
     "data": {
      "text/plain": [
       "location       1\n",
       "size          16\n",
       "total_sqft     0\n",
       "bath          73\n",
       "price          0\n",
       "dtype: int64"
      ]
     },
     "execution_count": 7,
     "metadata": {},
     "output_type": "execute_result"
    }
   ],
   "source": [
    "file.isna().sum()"
   ]
  },
  {
   "cell_type": "code",
   "execution_count": 8,
   "id": "89338b59",
   "metadata": {},
   "outputs": [
    {
     "data": {
      "text/plain": [
       "(13320, 5)"
      ]
     },
     "execution_count": 8,
     "metadata": {},
     "output_type": "execute_result"
    }
   ],
   "source": [
    "file.shape"
   ]
  },
  {
   "cell_type": "code",
   "execution_count": 9,
   "id": "47643dde",
   "metadata": {},
   "outputs": [],
   "source": [
    "# There are lot more number of records than that of the rows present in the dataset\n",
    "# Hence we can drop the rows which contains null values\n",
    "# Or we can replace the null values with median values too"
   ]
  },
  {
   "cell_type": "code",
   "execution_count": 10,
   "id": "970af12e",
   "metadata": {},
   "outputs": [],
   "source": [
    "bath_median = file['bath'].median()"
   ]
  },
  {
   "cell_type": "code",
   "execution_count": 11,
   "id": "de6c72fc",
   "metadata": {},
   "outputs": [
    {
     "data": {
      "text/plain": [
       "2.0"
      ]
     },
     "execution_count": 11,
     "metadata": {},
     "output_type": "execute_result"
    }
   ],
   "source": [
    "bath_median"
   ]
  },
  {
   "cell_type": "code",
   "execution_count": 12,
   "id": "bebb5b04",
   "metadata": {},
   "outputs": [],
   "source": [
    "file['bath'] = file.bath.fillna(bath_median)"
   ]
  },
  {
   "cell_type": "code",
   "execution_count": 13,
   "id": "9fe92ec9",
   "metadata": {},
   "outputs": [
    {
     "data": {
      "text/plain": [
       "location       1\n",
       "size          16\n",
       "total_sqft     0\n",
       "bath           0\n",
       "price          0\n",
       "dtype: int64"
      ]
     },
     "execution_count": 13,
     "metadata": {},
     "output_type": "execute_result"
    }
   ],
   "source": [
    "file.isna().sum()"
   ]
  },
  {
   "cell_type": "code",
   "execution_count": 14,
   "id": "5b93b1f7",
   "metadata": {},
   "outputs": [],
   "source": [
    "file = file.dropna()"
   ]
  },
  {
   "cell_type": "code",
   "execution_count": 15,
   "id": "7ee0a7e4",
   "metadata": {},
   "outputs": [
    {
     "data": {
      "text/plain": [
       "location      0\n",
       "size          0\n",
       "total_sqft    0\n",
       "bath          0\n",
       "price         0\n",
       "dtype: int64"
      ]
     },
     "execution_count": 15,
     "metadata": {},
     "output_type": "execute_result"
    }
   ],
   "source": [
    "file.isna().sum()"
   ]
  },
  {
   "cell_type": "code",
   "execution_count": 16,
   "id": "47ac5adc",
   "metadata": {},
   "outputs": [],
   "source": [
    "# Now all the null values are droped from the dataset"
   ]
  },
  {
   "cell_type": "code",
   "execution_count": 17,
   "id": "ebc888c6",
   "metadata": {},
   "outputs": [
    {
     "data": {
      "text/plain": [
       "array(['2 BHK', '4 Bedroom', '3 BHK', '4 BHK', '6 Bedroom', '3 Bedroom',\n",
       "       '1 BHK', '1 RK', '1 Bedroom', '8 Bedroom', '2 Bedroom',\n",
       "       '7 Bedroom', '5 BHK', '7 BHK', '6 BHK', '5 Bedroom', '11 BHK',\n",
       "       '9 BHK', '9 Bedroom', '27 BHK', '10 Bedroom', '11 Bedroom',\n",
       "       '10 BHK', '19 BHK', '16 BHK', '43 Bedroom', '14 BHK', '8 BHK',\n",
       "       '12 Bedroom', '13 BHK', '18 Bedroom'], dtype=object)"
      ]
     },
     "execution_count": 17,
     "metadata": {},
     "output_type": "execute_result"
    }
   ],
   "source": [
    "file['size'].unique()"
   ]
  },
  {
   "cell_type": "code",
   "execution_count": 18,
   "id": "160fa7fc",
   "metadata": {},
   "outputs": [],
   "source": [
    "# Have a look we have got size factor in different paramters \n",
    "# Some rooms size is given in the form of BHK while some in the form of Bedrooms\n",
    "# We will clear this using the function given below"
   ]
  },
  {
   "cell_type": "code",
   "execution_count": 20,
   "id": "da4e8223",
   "metadata": {},
   "outputs": [],
   "source": [
    "def total_rooms(size):\n",
    "    return int(size.split(' ')[0])"
   ]
  },
  {
   "cell_type": "code",
   "execution_count": 21,
   "id": "367c5f5c",
   "metadata": {},
   "outputs": [
    {
     "data": {
      "text/plain": [
       "5"
      ]
     },
     "execution_count": 21,
     "metadata": {},
     "output_type": "execute_result"
    }
   ],
   "source": [
    "total_rooms('5 Bedroom')"
   ]
  },
  {
   "cell_type": "code",
   "execution_count": 22,
   "id": "346aa7b3",
   "metadata": {},
   "outputs": [],
   "source": [
    "# Look we have got the size of number of the rooms in the form of numeric values"
   ]
  },
  {
   "cell_type": "code",
   "execution_count": 23,
   "id": "c5edea5f",
   "metadata": {},
   "outputs": [],
   "source": [
    "file['size'] = file['size'].apply(total_rooms)"
   ]
  },
  {
   "cell_type": "code",
   "execution_count": 24,
   "id": "2dfc214b",
   "metadata": {},
   "outputs": [
    {
     "data": {
      "text/html": [
       "<div>\n",
       "<style scoped>\n",
       "    .dataframe tbody tr th:only-of-type {\n",
       "        vertical-align: middle;\n",
       "    }\n",
       "\n",
       "    .dataframe tbody tr th {\n",
       "        vertical-align: top;\n",
       "    }\n",
       "\n",
       "    .dataframe thead th {\n",
       "        text-align: right;\n",
       "    }\n",
       "</style>\n",
       "<table border=\"1\" class=\"dataframe\">\n",
       "  <thead>\n",
       "    <tr style=\"text-align: right;\">\n",
       "      <th></th>\n",
       "      <th>location</th>\n",
       "      <th>size</th>\n",
       "      <th>total_sqft</th>\n",
       "      <th>bath</th>\n",
       "      <th>price</th>\n",
       "    </tr>\n",
       "  </thead>\n",
       "  <tbody>\n",
       "    <tr>\n",
       "      <th>0</th>\n",
       "      <td>Electronic City Phase II</td>\n",
       "      <td>2</td>\n",
       "      <td>1056</td>\n",
       "      <td>2.0</td>\n",
       "      <td>39.07</td>\n",
       "    </tr>\n",
       "    <tr>\n",
       "      <th>1</th>\n",
       "      <td>Chikka Tirupathi</td>\n",
       "      <td>4</td>\n",
       "      <td>2600</td>\n",
       "      <td>5.0</td>\n",
       "      <td>120.00</td>\n",
       "    </tr>\n",
       "    <tr>\n",
       "      <th>2</th>\n",
       "      <td>Uttarahalli</td>\n",
       "      <td>3</td>\n",
       "      <td>1440</td>\n",
       "      <td>2.0</td>\n",
       "      <td>62.00</td>\n",
       "    </tr>\n",
       "    <tr>\n",
       "      <th>3</th>\n",
       "      <td>Lingadheeranahalli</td>\n",
       "      <td>3</td>\n",
       "      <td>1521</td>\n",
       "      <td>3.0</td>\n",
       "      <td>95.00</td>\n",
       "    </tr>\n",
       "    <tr>\n",
       "      <th>4</th>\n",
       "      <td>Kothanur</td>\n",
       "      <td>2</td>\n",
       "      <td>1200</td>\n",
       "      <td>2.0</td>\n",
       "      <td>51.00</td>\n",
       "    </tr>\n",
       "  </tbody>\n",
       "</table>\n",
       "</div>"
      ],
      "text/plain": [
       "                   location  size total_sqft  bath   price\n",
       "0  Electronic City Phase II     2       1056   2.0   39.07\n",
       "1          Chikka Tirupathi     4       2600   5.0  120.00\n",
       "2               Uttarahalli     3       1440   2.0   62.00\n",
       "3        Lingadheeranahalli     3       1521   3.0   95.00\n",
       "4                  Kothanur     2       1200   2.0   51.00"
      ]
     },
     "execution_count": 24,
     "metadata": {},
     "output_type": "execute_result"
    }
   ],
   "source": [
    "file.head()"
   ]
  },
  {
   "cell_type": "code",
   "execution_count": 25,
   "id": "6277ce61",
   "metadata": {},
   "outputs": [
    {
     "data": {
      "text/plain": [
       "array(['1056', '2600', '1440', ..., '1133 - 1384', '774', '4689'],\n",
       "      dtype=object)"
      ]
     },
     "execution_count": 25,
     "metadata": {},
     "output_type": "execute_result"
    }
   ],
   "source": [
    "file['total_sqft'].unique()"
   ]
  },
  {
   "cell_type": "code",
   "execution_count": 26,
   "id": "f2e1414a",
   "metadata": {},
   "outputs": [],
   "source": [
    "# It seems that there are differnt types of values when we consider the total_sqft feature of the dataset\n",
    "# Hence we have to consider if they are numbers string or they are values of certain range"
   ]
  },
  {
   "cell_type": "code",
   "execution_count": 27,
   "id": "cfb0bcf3",
   "metadata": {},
   "outputs": [],
   "source": [
    "def is_float(sqft):\n",
    "    try:\n",
    "        float(sqft)\n",
    "    except:\n",
    "        return False\n",
    "    return True"
   ]
  },
  {
   "cell_type": "code",
   "execution_count": 28,
   "id": "fe811542",
   "metadata": {},
   "outputs": [
    {
     "data": {
      "text/html": [
       "<div>\n",
       "<style scoped>\n",
       "    .dataframe tbody tr th:only-of-type {\n",
       "        vertical-align: middle;\n",
       "    }\n",
       "\n",
       "    .dataframe tbody tr th {\n",
       "        vertical-align: top;\n",
       "    }\n",
       "\n",
       "    .dataframe thead th {\n",
       "        text-align: right;\n",
       "    }\n",
       "</style>\n",
       "<table border=\"1\" class=\"dataframe\">\n",
       "  <thead>\n",
       "    <tr style=\"text-align: right;\">\n",
       "      <th></th>\n",
       "      <th>location</th>\n",
       "      <th>size</th>\n",
       "      <th>total_sqft</th>\n",
       "      <th>bath</th>\n",
       "      <th>price</th>\n",
       "    </tr>\n",
       "  </thead>\n",
       "  <tbody>\n",
       "    <tr>\n",
       "      <th>30</th>\n",
       "      <td>Yelahanka</td>\n",
       "      <td>4</td>\n",
       "      <td>2100 - 2850</td>\n",
       "      <td>4.0</td>\n",
       "      <td>186.000</td>\n",
       "    </tr>\n",
       "    <tr>\n",
       "      <th>56</th>\n",
       "      <td>Devanahalli</td>\n",
       "      <td>4</td>\n",
       "      <td>3010 - 3410</td>\n",
       "      <td>2.0</td>\n",
       "      <td>192.000</td>\n",
       "    </tr>\n",
       "    <tr>\n",
       "      <th>81</th>\n",
       "      <td>Hennur Road</td>\n",
       "      <td>4</td>\n",
       "      <td>2957 - 3450</td>\n",
       "      <td>2.0</td>\n",
       "      <td>224.500</td>\n",
       "    </tr>\n",
       "    <tr>\n",
       "      <th>122</th>\n",
       "      <td>Hebbal</td>\n",
       "      <td>4</td>\n",
       "      <td>3067 - 8156</td>\n",
       "      <td>4.0</td>\n",
       "      <td>477.000</td>\n",
       "    </tr>\n",
       "    <tr>\n",
       "      <th>137</th>\n",
       "      <td>8th Phase JP Nagar</td>\n",
       "      <td>2</td>\n",
       "      <td>1042 - 1105</td>\n",
       "      <td>2.0</td>\n",
       "      <td>54.005</td>\n",
       "    </tr>\n",
       "    <tr>\n",
       "      <th>165</th>\n",
       "      <td>Sarjapur</td>\n",
       "      <td>2</td>\n",
       "      <td>1145 - 1340</td>\n",
       "      <td>2.0</td>\n",
       "      <td>43.490</td>\n",
       "    </tr>\n",
       "    <tr>\n",
       "      <th>188</th>\n",
       "      <td>KR Puram</td>\n",
       "      <td>2</td>\n",
       "      <td>1015 - 1540</td>\n",
       "      <td>2.0</td>\n",
       "      <td>56.800</td>\n",
       "    </tr>\n",
       "    <tr>\n",
       "      <th>224</th>\n",
       "      <td>Devanahalli</td>\n",
       "      <td>3</td>\n",
       "      <td>1520 - 1740</td>\n",
       "      <td>2.0</td>\n",
       "      <td>74.820</td>\n",
       "    </tr>\n",
       "    <tr>\n",
       "      <th>410</th>\n",
       "      <td>Kengeri</td>\n",
       "      <td>1</td>\n",
       "      <td>34.46Sq. Meter</td>\n",
       "      <td>1.0</td>\n",
       "      <td>18.500</td>\n",
       "    </tr>\n",
       "    <tr>\n",
       "      <th>549</th>\n",
       "      <td>Hennur Road</td>\n",
       "      <td>2</td>\n",
       "      <td>1195 - 1440</td>\n",
       "      <td>2.0</td>\n",
       "      <td>63.770</td>\n",
       "    </tr>\n",
       "  </tbody>\n",
       "</table>\n",
       "</div>"
      ],
      "text/plain": [
       "               location  size      total_sqft  bath    price\n",
       "30            Yelahanka     4     2100 - 2850   4.0  186.000\n",
       "56          Devanahalli     4     3010 - 3410   2.0  192.000\n",
       "81          Hennur Road     4     2957 - 3450   2.0  224.500\n",
       "122              Hebbal     4     3067 - 8156   4.0  477.000\n",
       "137  8th Phase JP Nagar     2     1042 - 1105   2.0   54.005\n",
       "165            Sarjapur     2     1145 - 1340   2.0   43.490\n",
       "188            KR Puram     2     1015 - 1540   2.0   56.800\n",
       "224         Devanahalli     3     1520 - 1740   2.0   74.820\n",
       "410             Kengeri     1  34.46Sq. Meter   1.0   18.500\n",
       "549         Hennur Road     2     1195 - 1440   2.0   63.770"
      ]
     },
     "execution_count": 28,
     "metadata": {},
     "output_type": "execute_result"
    }
   ],
   "source": [
    "file[~file['total_sqft'].apply(is_float)].head(10)"
   ]
  },
  {
   "cell_type": "code",
   "execution_count": 29,
   "id": "f05b11db",
   "metadata": {},
   "outputs": [],
   "source": [
    "# Now we have data in the form of range as well as data in the form of Sq. Meter and no one knows if there is total_sqft in \n",
    "# any other data value form"
   ]
  },
  {
   "cell_type": "code",
   "execution_count": 30,
   "id": "67f0ad47",
   "metadata": {},
   "outputs": [],
   "source": [
    "# We will only conider data in the range form and then apply avg function over data"
   ]
  },
  {
   "cell_type": "code",
   "execution_count": 45,
   "id": "89ad0f2f",
   "metadata": {},
   "outputs": [],
   "source": [
    "def get_avg(sqft):\n",
    "    numbers = sqft.split('-')\n",
    "    if len(numbers) == 2:\n",
    "        return float((float(numbers[0]) + float(numbers[1])) / 2);\n",
    "    try:\n",
    "        return float(sqft)\n",
    "    except:\n",
    "        return None"
   ]
  },
  {
   "cell_type": "code",
   "execution_count": 46,
   "id": "f0809322",
   "metadata": {},
   "outputs": [],
   "source": [
    "get_avg('34.46Sq. Meter\t')"
   ]
  },
  {
   "cell_type": "code",
   "execution_count": 47,
   "id": "a6581471",
   "metadata": {},
   "outputs": [
    {
     "data": {
      "text/plain": [
       "1073.5"
      ]
     },
     "execution_count": 47,
     "metadata": {},
     "output_type": "execute_result"
    }
   ],
   "source": [
    "get_avg('1042 - 1105')"
   ]
  },
  {
   "cell_type": "code",
   "execution_count": 48,
   "id": "c6990070",
   "metadata": {},
   "outputs": [],
   "source": [
    "file['total_sqft'] = file.total_sqft.apply(get_avg)"
   ]
  },
  {
   "cell_type": "code",
   "execution_count": 49,
   "id": "76893b54",
   "metadata": {},
   "outputs": [],
   "source": [
    "# It looks like it will give us the average value of the sqft value of the house"
   ]
  },
  {
   "cell_type": "code",
   "execution_count": 50,
   "id": "9b207146",
   "metadata": {},
   "outputs": [
    {
     "data": {
      "text/plain": [
       "location       0\n",
       "size           0\n",
       "total_sqft    46\n",
       "bath           0\n",
       "price          0\n",
       "dtype: int64"
      ]
     },
     "execution_count": 50,
     "metadata": {},
     "output_type": "execute_result"
    }
   ],
   "source": [
    "file.isnull().sum()"
   ]
  },
  {
   "cell_type": "code",
   "execution_count": 51,
   "id": "d8c9b0a9",
   "metadata": {},
   "outputs": [
    {
     "data": {
      "text/html": [
       "<div>\n",
       "<style scoped>\n",
       "    .dataframe tbody tr th:only-of-type {\n",
       "        vertical-align: middle;\n",
       "    }\n",
       "\n",
       "    .dataframe tbody tr th {\n",
       "        vertical-align: top;\n",
       "    }\n",
       "\n",
       "    .dataframe thead th {\n",
       "        text-align: right;\n",
       "    }\n",
       "</style>\n",
       "<table border=\"1\" class=\"dataframe\">\n",
       "  <thead>\n",
       "    <tr style=\"text-align: right;\">\n",
       "      <th></th>\n",
       "      <th>location</th>\n",
       "      <th>size</th>\n",
       "      <th>total_sqft</th>\n",
       "      <th>bath</th>\n",
       "      <th>price</th>\n",
       "    </tr>\n",
       "  </thead>\n",
       "  <tbody>\n",
       "    <tr>\n",
       "      <th>0</th>\n",
       "      <td>Electronic City Phase II</td>\n",
       "      <td>2</td>\n",
       "      <td>1056.0</td>\n",
       "      <td>2.0</td>\n",
       "      <td>39.07</td>\n",
       "    </tr>\n",
       "    <tr>\n",
       "      <th>1</th>\n",
       "      <td>Chikka Tirupathi</td>\n",
       "      <td>4</td>\n",
       "      <td>2600.0</td>\n",
       "      <td>5.0</td>\n",
       "      <td>120.00</td>\n",
       "    </tr>\n",
       "    <tr>\n",
       "      <th>2</th>\n",
       "      <td>Uttarahalli</td>\n",
       "      <td>3</td>\n",
       "      <td>1440.0</td>\n",
       "      <td>2.0</td>\n",
       "      <td>62.00</td>\n",
       "    </tr>\n",
       "    <tr>\n",
       "      <th>3</th>\n",
       "      <td>Lingadheeranahalli</td>\n",
       "      <td>3</td>\n",
       "      <td>1521.0</td>\n",
       "      <td>3.0</td>\n",
       "      <td>95.00</td>\n",
       "    </tr>\n",
       "    <tr>\n",
       "      <th>4</th>\n",
       "      <td>Kothanur</td>\n",
       "      <td>2</td>\n",
       "      <td>1200.0</td>\n",
       "      <td>2.0</td>\n",
       "      <td>51.00</td>\n",
       "    </tr>\n",
       "  </tbody>\n",
       "</table>\n",
       "</div>"
      ],
      "text/plain": [
       "                   location  size  total_sqft  bath   price\n",
       "0  Electronic City Phase II     2      1056.0   2.0   39.07\n",
       "1          Chikka Tirupathi     4      2600.0   5.0  120.00\n",
       "2               Uttarahalli     3      1440.0   2.0   62.00\n",
       "3        Lingadheeranahalli     3      1521.0   3.0   95.00\n",
       "4                  Kothanur     2      1200.0   2.0   51.00"
      ]
     },
     "execution_count": 51,
     "metadata": {},
     "output_type": "execute_result"
    }
   ],
   "source": [
    "file.head()"
   ]
  },
  {
   "cell_type": "code",
   "execution_count": 61,
   "id": "3974a654",
   "metadata": {},
   "outputs": [],
   "source": [
    "# Now lets calculate the price per sqft so that it will be easy to predict the price and it will be in unitary form"
   ]
  },
  {
   "cell_type": "code",
   "execution_count": 64,
   "id": "b317c755",
   "metadata": {},
   "outputs": [],
   "source": [
    "file['price_per_sqft'] = (file['price'] * 100000) / file['total_sqft']"
   ]
  },
  {
   "cell_type": "code",
   "execution_count": 65,
   "id": "d7653058",
   "metadata": {},
   "outputs": [
    {
     "data": {
      "text/html": [
       "<div>\n",
       "<style scoped>\n",
       "    .dataframe tbody tr th:only-of-type {\n",
       "        vertical-align: middle;\n",
       "    }\n",
       "\n",
       "    .dataframe tbody tr th {\n",
       "        vertical-align: top;\n",
       "    }\n",
       "\n",
       "    .dataframe thead th {\n",
       "        text-align: right;\n",
       "    }\n",
       "</style>\n",
       "<table border=\"1\" class=\"dataframe\">\n",
       "  <thead>\n",
       "    <tr style=\"text-align: right;\">\n",
       "      <th></th>\n",
       "      <th>location</th>\n",
       "      <th>size</th>\n",
       "      <th>total_sqft</th>\n",
       "      <th>bath</th>\n",
       "      <th>price</th>\n",
       "      <th>price_per_sqft</th>\n",
       "    </tr>\n",
       "  </thead>\n",
       "  <tbody>\n",
       "    <tr>\n",
       "      <th>0</th>\n",
       "      <td>Electronic City Phase II</td>\n",
       "      <td>2</td>\n",
       "      <td>1056.0</td>\n",
       "      <td>2.0</td>\n",
       "      <td>39.07</td>\n",
       "      <td>3699.810606</td>\n",
       "    </tr>\n",
       "    <tr>\n",
       "      <th>1</th>\n",
       "      <td>Chikka Tirupathi</td>\n",
       "      <td>4</td>\n",
       "      <td>2600.0</td>\n",
       "      <td>5.0</td>\n",
       "      <td>120.00</td>\n",
       "      <td>4615.384615</td>\n",
       "    </tr>\n",
       "    <tr>\n",
       "      <th>2</th>\n",
       "      <td>Uttarahalli</td>\n",
       "      <td>3</td>\n",
       "      <td>1440.0</td>\n",
       "      <td>2.0</td>\n",
       "      <td>62.00</td>\n",
       "      <td>4305.555556</td>\n",
       "    </tr>\n",
       "    <tr>\n",
       "      <th>3</th>\n",
       "      <td>Lingadheeranahalli</td>\n",
       "      <td>3</td>\n",
       "      <td>1521.0</td>\n",
       "      <td>3.0</td>\n",
       "      <td>95.00</td>\n",
       "      <td>6245.890861</td>\n",
       "    </tr>\n",
       "    <tr>\n",
       "      <th>4</th>\n",
       "      <td>Kothanur</td>\n",
       "      <td>2</td>\n",
       "      <td>1200.0</td>\n",
       "      <td>2.0</td>\n",
       "      <td>51.00</td>\n",
       "      <td>4250.000000</td>\n",
       "    </tr>\n",
       "  </tbody>\n",
       "</table>\n",
       "</div>"
      ],
      "text/plain": [
       "                   location  size  total_sqft  bath   price  price_per_sqft\n",
       "0  Electronic City Phase II     2      1056.0   2.0   39.07     3699.810606\n",
       "1          Chikka Tirupathi     4      2600.0   5.0  120.00     4615.384615\n",
       "2               Uttarahalli     3      1440.0   2.0   62.00     4305.555556\n",
       "3        Lingadheeranahalli     3      1521.0   3.0   95.00     6245.890861\n",
       "4                  Kothanur     2      1200.0   2.0   51.00     4250.000000"
      ]
     },
     "execution_count": 65,
     "metadata": {},
     "output_type": "execute_result"
    }
   ],
   "source": [
    "file.head()"
   ]
  },
  {
   "cell_type": "code",
   "execution_count": 67,
   "id": "19272b42",
   "metadata": {},
   "outputs": [
    {
     "data": {
      "text/html": [
       "<div>\n",
       "<style scoped>\n",
       "    .dataframe tbody tr th:only-of-type {\n",
       "        vertical-align: middle;\n",
       "    }\n",
       "\n",
       "    .dataframe tbody tr th {\n",
       "        vertical-align: top;\n",
       "    }\n",
       "\n",
       "    .dataframe thead tr th {\n",
       "        text-align: left;\n",
       "    }\n",
       "\n",
       "    .dataframe thead tr:last-of-type th {\n",
       "        text-align: right;\n",
       "    }\n",
       "</style>\n",
       "<table border=\"1\" class=\"dataframe\">\n",
       "  <thead>\n",
       "    <tr>\n",
       "      <th></th>\n",
       "      <th colspan=\"8\" halign=\"left\">size</th>\n",
       "      <th colspan=\"2\" halign=\"left\">total_sqft</th>\n",
       "      <th>...</th>\n",
       "      <th colspan=\"2\" halign=\"left\">price</th>\n",
       "      <th colspan=\"8\" halign=\"left\">price_per_sqft</th>\n",
       "    </tr>\n",
       "    <tr>\n",
       "      <th></th>\n",
       "      <th>count</th>\n",
       "      <th>mean</th>\n",
       "      <th>std</th>\n",
       "      <th>min</th>\n",
       "      <th>25%</th>\n",
       "      <th>50%</th>\n",
       "      <th>75%</th>\n",
       "      <th>max</th>\n",
       "      <th>count</th>\n",
       "      <th>mean</th>\n",
       "      <th>...</th>\n",
       "      <th>75%</th>\n",
       "      <th>max</th>\n",
       "      <th>count</th>\n",
       "      <th>mean</th>\n",
       "      <th>std</th>\n",
       "      <th>min</th>\n",
       "      <th>25%</th>\n",
       "      <th>50%</th>\n",
       "      <th>75%</th>\n",
       "      <th>max</th>\n",
       "    </tr>\n",
       "    <tr>\n",
       "      <th>location</th>\n",
       "      <th></th>\n",
       "      <th></th>\n",
       "      <th></th>\n",
       "      <th></th>\n",
       "      <th></th>\n",
       "      <th></th>\n",
       "      <th></th>\n",
       "      <th></th>\n",
       "      <th></th>\n",
       "      <th></th>\n",
       "      <th></th>\n",
       "      <th></th>\n",
       "      <th></th>\n",
       "      <th></th>\n",
       "      <th></th>\n",
       "      <th></th>\n",
       "      <th></th>\n",
       "      <th></th>\n",
       "      <th></th>\n",
       "      <th></th>\n",
       "      <th></th>\n",
       "    </tr>\n",
       "  </thead>\n",
       "  <tbody>\n",
       "    <tr>\n",
       "      <th>Anekal</th>\n",
       "      <td>1.0</td>\n",
       "      <td>1.000000</td>\n",
       "      <td>NaN</td>\n",
       "      <td>1.0</td>\n",
       "      <td>1.00</td>\n",
       "      <td>1.0</td>\n",
       "      <td>1.00</td>\n",
       "      <td>1.0</td>\n",
       "      <td>1.0</td>\n",
       "      <td>351.000000</td>\n",
       "      <td>...</td>\n",
       "      <td>16.00</td>\n",
       "      <td>16.00</td>\n",
       "      <td>1.0</td>\n",
       "      <td>4558.404558</td>\n",
       "      <td>NaN</td>\n",
       "      <td>4558.404558</td>\n",
       "      <td>4558.404558</td>\n",
       "      <td>4558.404558</td>\n",
       "      <td>4558.404558</td>\n",
       "      <td>4558.404558</td>\n",
       "    </tr>\n",
       "    <tr>\n",
       "      <th>Banaswadi</th>\n",
       "      <td>1.0</td>\n",
       "      <td>1.000000</td>\n",
       "      <td>NaN</td>\n",
       "      <td>1.0</td>\n",
       "      <td>1.00</td>\n",
       "      <td>1.0</td>\n",
       "      <td>1.00</td>\n",
       "      <td>1.0</td>\n",
       "      <td>1.0</td>\n",
       "      <td>527.000000</td>\n",
       "      <td>...</td>\n",
       "      <td>35.00</td>\n",
       "      <td>35.00</td>\n",
       "      <td>1.0</td>\n",
       "      <td>6641.366224</td>\n",
       "      <td>NaN</td>\n",
       "      <td>6641.366224</td>\n",
       "      <td>6641.366224</td>\n",
       "      <td>6641.366224</td>\n",
       "      <td>6641.366224</td>\n",
       "      <td>6641.366224</td>\n",
       "    </tr>\n",
       "    <tr>\n",
       "      <th>Basavangudi</th>\n",
       "      <td>1.0</td>\n",
       "      <td>1.000000</td>\n",
       "      <td>NaN</td>\n",
       "      <td>1.0</td>\n",
       "      <td>1.00</td>\n",
       "      <td>1.0</td>\n",
       "      <td>1.00</td>\n",
       "      <td>1.0</td>\n",
       "      <td>1.0</td>\n",
       "      <td>670.000000</td>\n",
       "      <td>...</td>\n",
       "      <td>50.00</td>\n",
       "      <td>50.00</td>\n",
       "      <td>1.0</td>\n",
       "      <td>7462.686567</td>\n",
       "      <td>NaN</td>\n",
       "      <td>7462.686567</td>\n",
       "      <td>7462.686567</td>\n",
       "      <td>7462.686567</td>\n",
       "      <td>7462.686567</td>\n",
       "      <td>7462.686567</td>\n",
       "    </tr>\n",
       "    <tr>\n",
       "      <th>Bhoganhalli</th>\n",
       "      <td>1.0</td>\n",
       "      <td>1.000000</td>\n",
       "      <td>NaN</td>\n",
       "      <td>1.0</td>\n",
       "      <td>1.00</td>\n",
       "      <td>1.0</td>\n",
       "      <td>1.00</td>\n",
       "      <td>1.0</td>\n",
       "      <td>1.0</td>\n",
       "      <td>296.000000</td>\n",
       "      <td>...</td>\n",
       "      <td>22.89</td>\n",
       "      <td>22.89</td>\n",
       "      <td>1.0</td>\n",
       "      <td>7733.108108</td>\n",
       "      <td>NaN</td>\n",
       "      <td>7733.108108</td>\n",
       "      <td>7733.108108</td>\n",
       "      <td>7733.108108</td>\n",
       "      <td>7733.108108</td>\n",
       "      <td>7733.108108</td>\n",
       "    </tr>\n",
       "    <tr>\n",
       "      <th>Devarabeesana Halli</th>\n",
       "      <td>6.0</td>\n",
       "      <td>2.666667</td>\n",
       "      <td>0.516398</td>\n",
       "      <td>2.0</td>\n",
       "      <td>2.25</td>\n",
       "      <td>3.0</td>\n",
       "      <td>3.00</td>\n",
       "      <td>3.0</td>\n",
       "      <td>6.0</td>\n",
       "      <td>1539.666667</td>\n",
       "      <td>...</td>\n",
       "      <td>150.00</td>\n",
       "      <td>160.00</td>\n",
       "      <td>6.0</td>\n",
       "      <td>7900.452568</td>\n",
       "      <td>1637.393519</td>\n",
       "      <td>5401.234568</td>\n",
       "      <td>6901.298701</td>\n",
       "      <td>8542.857143</td>\n",
       "      <td>8871.326042</td>\n",
       "      <td>9580.838323</td>\n",
       "    </tr>\n",
       "    <tr>\n",
       "      <th>...</th>\n",
       "      <td>...</td>\n",
       "      <td>...</td>\n",
       "      <td>...</td>\n",
       "      <td>...</td>\n",
       "      <td>...</td>\n",
       "      <td>...</td>\n",
       "      <td>...</td>\n",
       "      <td>...</td>\n",
       "      <td>...</td>\n",
       "      <td>...</td>\n",
       "      <td>...</td>\n",
       "      <td>...</td>\n",
       "      <td>...</td>\n",
       "      <td>...</td>\n",
       "      <td>...</td>\n",
       "      <td>...</td>\n",
       "      <td>...</td>\n",
       "      <td>...</td>\n",
       "      <td>...</td>\n",
       "      <td>...</td>\n",
       "      <td>...</td>\n",
       "    </tr>\n",
       "    <tr>\n",
       "      <th>t.c palya</th>\n",
       "      <td>1.0</td>\n",
       "      <td>6.000000</td>\n",
       "      <td>NaN</td>\n",
       "      <td>6.0</td>\n",
       "      <td>6.00</td>\n",
       "      <td>6.0</td>\n",
       "      <td>6.00</td>\n",
       "      <td>6.0</td>\n",
       "      <td>1.0</td>\n",
       "      <td>1350.000000</td>\n",
       "      <td>...</td>\n",
       "      <td>160.00</td>\n",
       "      <td>160.00</td>\n",
       "      <td>1.0</td>\n",
       "      <td>11851.851852</td>\n",
       "      <td>NaN</td>\n",
       "      <td>11851.851852</td>\n",
       "      <td>11851.851852</td>\n",
       "      <td>11851.851852</td>\n",
       "      <td>11851.851852</td>\n",
       "      <td>11851.851852</td>\n",
       "    </tr>\n",
       "    <tr>\n",
       "      <th>tc.palya</th>\n",
       "      <td>4.0</td>\n",
       "      <td>2.250000</td>\n",
       "      <td>0.500000</td>\n",
       "      <td>2.0</td>\n",
       "      <td>2.00</td>\n",
       "      <td>2.0</td>\n",
       "      <td>2.25</td>\n",
       "      <td>3.0</td>\n",
       "      <td>4.0</td>\n",
       "      <td>1075.000000</td>\n",
       "      <td>...</td>\n",
       "      <td>66.00</td>\n",
       "      <td>78.00</td>\n",
       "      <td>4.0</td>\n",
       "      <td>5651.101350</td>\n",
       "      <td>288.920138</td>\n",
       "      <td>5454.545455</td>\n",
       "      <td>5488.636364</td>\n",
       "      <td>5535.714286</td>\n",
       "      <td>5698.179272</td>\n",
       "      <td>6078.431373</td>\n",
       "    </tr>\n",
       "    <tr>\n",
       "      <th>vinayakanagar</th>\n",
       "      <td>1.0</td>\n",
       "      <td>7.000000</td>\n",
       "      <td>NaN</td>\n",
       "      <td>7.0</td>\n",
       "      <td>7.00</td>\n",
       "      <td>7.0</td>\n",
       "      <td>7.00</td>\n",
       "      <td>7.0</td>\n",
       "      <td>1.0</td>\n",
       "      <td>1200.000000</td>\n",
       "      <td>...</td>\n",
       "      <td>200.00</td>\n",
       "      <td>200.00</td>\n",
       "      <td>1.0</td>\n",
       "      <td>16666.666667</td>\n",
       "      <td>NaN</td>\n",
       "      <td>16666.666667</td>\n",
       "      <td>16666.666667</td>\n",
       "      <td>16666.666667</td>\n",
       "      <td>16666.666667</td>\n",
       "      <td>16666.666667</td>\n",
       "    </tr>\n",
       "    <tr>\n",
       "      <th>white field,kadugodi</th>\n",
       "      <td>1.0</td>\n",
       "      <td>6.000000</td>\n",
       "      <td>NaN</td>\n",
       "      <td>6.0</td>\n",
       "      <td>6.00</td>\n",
       "      <td>6.0</td>\n",
       "      <td>6.00</td>\n",
       "      <td>6.0</td>\n",
       "      <td>1.0</td>\n",
       "      <td>2100.000000</td>\n",
       "      <td>...</td>\n",
       "      <td>275.00</td>\n",
       "      <td>275.00</td>\n",
       "      <td>1.0</td>\n",
       "      <td>13095.238095</td>\n",
       "      <td>NaN</td>\n",
       "      <td>13095.238095</td>\n",
       "      <td>13095.238095</td>\n",
       "      <td>13095.238095</td>\n",
       "      <td>13095.238095</td>\n",
       "      <td>13095.238095</td>\n",
       "    </tr>\n",
       "    <tr>\n",
       "      <th>whitefiled</th>\n",
       "      <td>1.0</td>\n",
       "      <td>2.000000</td>\n",
       "      <td>NaN</td>\n",
       "      <td>2.0</td>\n",
       "      <td>2.00</td>\n",
       "      <td>2.0</td>\n",
       "      <td>2.00</td>\n",
       "      <td>2.0</td>\n",
       "      <td>1.0</td>\n",
       "      <td>935.000000</td>\n",
       "      <td>...</td>\n",
       "      <td>32.73</td>\n",
       "      <td>32.73</td>\n",
       "      <td>1.0</td>\n",
       "      <td>3500.534759</td>\n",
       "      <td>NaN</td>\n",
       "      <td>3500.534759</td>\n",
       "      <td>3500.534759</td>\n",
       "      <td>3500.534759</td>\n",
       "      <td>3500.534759</td>\n",
       "      <td>3500.534759</td>\n",
       "    </tr>\n",
       "  </tbody>\n",
       "</table>\n",
       "<p>1304 rows × 40 columns</p>\n",
       "</div>"
      ],
      "text/plain": [
       "                      size                                                 \\\n",
       "                     count      mean       std  min   25%  50%   75%  max   \n",
       "location                                                                    \n",
       " Anekal                1.0  1.000000       NaN  1.0  1.00  1.0  1.00  1.0   \n",
       " Banaswadi             1.0  1.000000       NaN  1.0  1.00  1.0  1.00  1.0   \n",
       " Basavangudi           1.0  1.000000       NaN  1.0  1.00  1.0  1.00  1.0   \n",
       " Bhoganhalli           1.0  1.000000       NaN  1.0  1.00  1.0  1.00  1.0   \n",
       " Devarabeesana Halli   6.0  2.666667  0.516398  2.0  2.25  3.0  3.00  3.0   \n",
       "...                    ...       ...       ...  ...   ...  ...   ...  ...   \n",
       "t.c palya              1.0  6.000000       NaN  6.0  6.00  6.0  6.00  6.0   \n",
       "tc.palya               4.0  2.250000  0.500000  2.0  2.00  2.0  2.25  3.0   \n",
       "vinayakanagar          1.0  7.000000       NaN  7.0  7.00  7.0  7.00  7.0   \n",
       "white field,kadugodi   1.0  6.000000       NaN  6.0  6.00  6.0  6.00  6.0   \n",
       "whitefiled             1.0  2.000000       NaN  2.0  2.00  2.0  2.00  2.0   \n",
       "\n",
       "                     total_sqft               ...   price          \\\n",
       "                          count         mean  ...     75%     max   \n",
       "location                                      ...                   \n",
       " Anekal                     1.0   351.000000  ...   16.00   16.00   \n",
       " Banaswadi                  1.0   527.000000  ...   35.00   35.00   \n",
       " Basavangudi                1.0   670.000000  ...   50.00   50.00   \n",
       " Bhoganhalli                1.0   296.000000  ...   22.89   22.89   \n",
       " Devarabeesana Halli        6.0  1539.666667  ...  150.00  160.00   \n",
       "...                         ...          ...  ...     ...     ...   \n",
       "t.c palya                   1.0  1350.000000  ...  160.00  160.00   \n",
       "tc.palya                    4.0  1075.000000  ...   66.00   78.00   \n",
       "vinayakanagar               1.0  1200.000000  ...  200.00  200.00   \n",
       "white field,kadugodi        1.0  2100.000000  ...  275.00  275.00   \n",
       "whitefiled                  1.0   935.000000  ...   32.73   32.73   \n",
       "\n",
       "                     price_per_sqft                                           \\\n",
       "                              count          mean          std           min   \n",
       "location                                                                       \n",
       " Anekal                         1.0   4558.404558          NaN   4558.404558   \n",
       " Banaswadi                      1.0   6641.366224          NaN   6641.366224   \n",
       " Basavangudi                    1.0   7462.686567          NaN   7462.686567   \n",
       " Bhoganhalli                    1.0   7733.108108          NaN   7733.108108   \n",
       " Devarabeesana Halli            6.0   7900.452568  1637.393519   5401.234568   \n",
       "...                             ...           ...          ...           ...   \n",
       "t.c palya                       1.0  11851.851852          NaN  11851.851852   \n",
       "tc.palya                        4.0   5651.101350   288.920138   5454.545455   \n",
       "vinayakanagar                   1.0  16666.666667          NaN  16666.666667   \n",
       "white field,kadugodi            1.0  13095.238095          NaN  13095.238095   \n",
       "whitefiled                      1.0   3500.534759          NaN   3500.534759   \n",
       "\n",
       "                                                                              \n",
       "                               25%           50%           75%           max  \n",
       "location                                                                      \n",
       " Anekal                4558.404558   4558.404558   4558.404558   4558.404558  \n",
       " Banaswadi             6641.366224   6641.366224   6641.366224   6641.366224  \n",
       " Basavangudi           7462.686567   7462.686567   7462.686567   7462.686567  \n",
       " Bhoganhalli           7733.108108   7733.108108   7733.108108   7733.108108  \n",
       " Devarabeesana Halli   6901.298701   8542.857143   8871.326042   9580.838323  \n",
       "...                            ...           ...           ...           ...  \n",
       "t.c palya             11851.851852  11851.851852  11851.851852  11851.851852  \n",
       "tc.palya               5488.636364   5535.714286   5698.179272   6078.431373  \n",
       "vinayakanagar         16666.666667  16666.666667  16666.666667  16666.666667  \n",
       "white field,kadugodi  13095.238095  13095.238095  13095.238095  13095.238095  \n",
       "whitefiled             3500.534759   3500.534759   3500.534759   3500.534759  \n",
       "\n",
       "[1304 rows x 40 columns]"
      ]
     },
     "execution_count": 67,
     "metadata": {},
     "output_type": "execute_result"
    }
   ],
   "source": [
    "file.groupby('location').describe()"
   ]
  },
  {
   "cell_type": "code",
   "execution_count": 68,
   "id": "e2de7707",
   "metadata": {},
   "outputs": [],
   "source": [
    "# It seems that there are different numbers location in the bangalore city for which the price of the house is given\n",
    "# lets find how many are there"
   ]
  },
  {
   "cell_type": "code",
   "execution_count": 70,
   "id": "15b9f16f",
   "metadata": {},
   "outputs": [
    {
     "data": {
      "text/plain": [
       "1304"
      ]
     },
     "execution_count": 70,
     "metadata": {},
     "output_type": "execute_result"
    }
   ],
   "source": [
    "# First we will have done data cleaning first and then we will do some data cleaning\n",
    "len(file.location.unique())"
   ]
  },
  {
   "cell_type": "code",
   "execution_count": 72,
   "id": "84899bd3",
   "metadata": {},
   "outputs": [],
   "source": [
    "# So there are total of 1304 location for which we might have to find the price for\n",
    "# But few of them might have come very few times so we can conclude that we can add them into other category\n",
    "# Before that we will perform data cleaning by stripping the values"
   ]
  },
  {
   "cell_type": "code",
   "execution_count": 73,
   "id": "773424a5",
   "metadata": {},
   "outputs": [],
   "source": [
    "file.location = file.location.apply(lambda x : x.strip())"
   ]
  },
  {
   "cell_type": "code",
   "execution_count": 74,
   "id": "3c088466",
   "metadata": {},
   "outputs": [
    {
     "data": {
      "text/html": [
       "<div>\n",
       "<style scoped>\n",
       "    .dataframe tbody tr th:only-of-type {\n",
       "        vertical-align: middle;\n",
       "    }\n",
       "\n",
       "    .dataframe tbody tr th {\n",
       "        vertical-align: top;\n",
       "    }\n",
       "\n",
       "    .dataframe thead th {\n",
       "        text-align: right;\n",
       "    }\n",
       "</style>\n",
       "<table border=\"1\" class=\"dataframe\">\n",
       "  <thead>\n",
       "    <tr style=\"text-align: right;\">\n",
       "      <th></th>\n",
       "      <th>location</th>\n",
       "      <th>size</th>\n",
       "      <th>total_sqft</th>\n",
       "      <th>bath</th>\n",
       "      <th>price</th>\n",
       "      <th>price_per_sqft</th>\n",
       "    </tr>\n",
       "  </thead>\n",
       "  <tbody>\n",
       "    <tr>\n",
       "      <th>0</th>\n",
       "      <td>Electronic City Phase II</td>\n",
       "      <td>2</td>\n",
       "      <td>1056.0</td>\n",
       "      <td>2.0</td>\n",
       "      <td>39.07</td>\n",
       "      <td>3699.810606</td>\n",
       "    </tr>\n",
       "    <tr>\n",
       "      <th>1</th>\n",
       "      <td>Chikka Tirupathi</td>\n",
       "      <td>4</td>\n",
       "      <td>2600.0</td>\n",
       "      <td>5.0</td>\n",
       "      <td>120.00</td>\n",
       "      <td>4615.384615</td>\n",
       "    </tr>\n",
       "    <tr>\n",
       "      <th>2</th>\n",
       "      <td>Uttarahalli</td>\n",
       "      <td>3</td>\n",
       "      <td>1440.0</td>\n",
       "      <td>2.0</td>\n",
       "      <td>62.00</td>\n",
       "      <td>4305.555556</td>\n",
       "    </tr>\n",
       "    <tr>\n",
       "      <th>3</th>\n",
       "      <td>Lingadheeranahalli</td>\n",
       "      <td>3</td>\n",
       "      <td>1521.0</td>\n",
       "      <td>3.0</td>\n",
       "      <td>95.00</td>\n",
       "      <td>6245.890861</td>\n",
       "    </tr>\n",
       "    <tr>\n",
       "      <th>4</th>\n",
       "      <td>Kothanur</td>\n",
       "      <td>2</td>\n",
       "      <td>1200.0</td>\n",
       "      <td>2.0</td>\n",
       "      <td>51.00</td>\n",
       "      <td>4250.000000</td>\n",
       "    </tr>\n",
       "  </tbody>\n",
       "</table>\n",
       "</div>"
      ],
      "text/plain": [
       "                   location  size  total_sqft  bath   price  price_per_sqft\n",
       "0  Electronic City Phase II     2      1056.0   2.0   39.07     3699.810606\n",
       "1          Chikka Tirupathi     4      2600.0   5.0  120.00     4615.384615\n",
       "2               Uttarahalli     3      1440.0   2.0   62.00     4305.555556\n",
       "3        Lingadheeranahalli     3      1521.0   3.0   95.00     6245.890861\n",
       "4                  Kothanur     2      1200.0   2.0   51.00     4250.000000"
      ]
     },
     "execution_count": 74,
     "metadata": {},
     "output_type": "execute_result"
    }
   ],
   "source": [
    "file.head()"
   ]
  },
  {
   "cell_type": "code",
   "execution_count": 79,
   "id": "eea50c24",
   "metadata": {},
   "outputs": [],
   "source": [
    "location_count = file.location.value_counts(ascending=False)"
   ]
  },
  {
   "cell_type": "code",
   "execution_count": 80,
   "id": "2657eaef",
   "metadata": {},
   "outputs": [
    {
     "data": {
      "text/plain": [
       "Whitefield                        540\n",
       "Sarjapur  Road                    397\n",
       "Electronic City                   304\n",
       "Kanakpura Road                    273\n",
       "Thanisandra                       237\n",
       "                                 ... \n",
       "Vasantapura main road               1\n",
       "Bapuji Layout                       1\n",
       "1st Stage Radha Krishna Layout      1\n",
       "BEML Layout 5th stage               1\n",
       "Abshot Layout                       1\n",
       "Name: location, Length: 1293, dtype: int64"
      ]
     },
     "execution_count": 80,
     "metadata": {},
     "output_type": "execute_result"
    }
   ],
   "source": [
    "location_count"
   ]
  },
  {
   "cell_type": "code",
   "execution_count": 81,
   "id": "8504e2e1",
   "metadata": {},
   "outputs": [],
   "source": [
    "# So here we have got the values from highest 540 to lowest 1 so we can ignore some location that come less than that of the \n",
    "# some values and put them in the other"
   ]
  },
  {
   "cell_type": "code",
   "execution_count": 86,
   "id": "dccfed9a",
   "metadata": {},
   "outputs": [
    {
     "data": {
      "text/plain": [
       "1293"
      ]
     },
     "execution_count": 86,
     "metadata": {},
     "output_type": "execute_result"
    }
   ],
   "source": [
    "len(file.location.unique())"
   ]
  },
  {
   "cell_type": "code",
   "execution_count": 88,
   "id": "aef882db",
   "metadata": {},
   "outputs": [],
   "source": [
    "# To make 1293 colunmns will be difficult hence we will reduce the number of columns"
   ]
  },
  {
   "cell_type": "code",
   "execution_count": 89,
   "id": "945e6ead",
   "metadata": {},
   "outputs": [],
   "source": [
    "count_less_than_ten = location_count[location_count<=10]"
   ]
  },
  {
   "cell_type": "code",
   "execution_count": 90,
   "id": "c2403278",
   "metadata": {},
   "outputs": [],
   "source": [
    "file['location'] = file.location.apply(lambda x : 'others' if x in count_less_than_ten else x)"
   ]
  },
  {
   "cell_type": "code",
   "execution_count": 93,
   "id": "ac579b10",
   "metadata": {},
   "outputs": [
    {
     "data": {
      "text/plain": [
       "242"
      ]
     },
     "execution_count": 93,
     "metadata": {},
     "output_type": "execute_result"
    }
   ],
   "source": [
    "len(file.location.unique())"
   ]
  },
  {
   "cell_type": "code",
   "execution_count": 94,
   "id": "6c88a195",
   "metadata": {},
   "outputs": [],
   "source": [
    "# Now the count is 242 and hence we can have less number of columns than that of previous one"
   ]
  },
  {
   "cell_type": "code",
   "execution_count": 95,
   "id": "957cc5eb",
   "metadata": {},
   "outputs": [
    {
     "data": {
      "text/html": [
       "<div>\n",
       "<style scoped>\n",
       "    .dataframe tbody tr th:only-of-type {\n",
       "        vertical-align: middle;\n",
       "    }\n",
       "\n",
       "    .dataframe tbody tr th {\n",
       "        vertical-align: top;\n",
       "    }\n",
       "\n",
       "    .dataframe thead th {\n",
       "        text-align: right;\n",
       "    }\n",
       "</style>\n",
       "<table border=\"1\" class=\"dataframe\">\n",
       "  <thead>\n",
       "    <tr style=\"text-align: right;\">\n",
       "      <th></th>\n",
       "      <th>location</th>\n",
       "      <th>size</th>\n",
       "      <th>total_sqft</th>\n",
       "      <th>bath</th>\n",
       "      <th>price</th>\n",
       "      <th>price_per_sqft</th>\n",
       "    </tr>\n",
       "  </thead>\n",
       "  <tbody>\n",
       "    <tr>\n",
       "      <th>0</th>\n",
       "      <td>Electronic City Phase II</td>\n",
       "      <td>2</td>\n",
       "      <td>1056.0</td>\n",
       "      <td>2.0</td>\n",
       "      <td>39.07</td>\n",
       "      <td>3699.810606</td>\n",
       "    </tr>\n",
       "    <tr>\n",
       "      <th>1</th>\n",
       "      <td>Chikka Tirupathi</td>\n",
       "      <td>4</td>\n",
       "      <td>2600.0</td>\n",
       "      <td>5.0</td>\n",
       "      <td>120.00</td>\n",
       "      <td>4615.384615</td>\n",
       "    </tr>\n",
       "    <tr>\n",
       "      <th>2</th>\n",
       "      <td>Uttarahalli</td>\n",
       "      <td>3</td>\n",
       "      <td>1440.0</td>\n",
       "      <td>2.0</td>\n",
       "      <td>62.00</td>\n",
       "      <td>4305.555556</td>\n",
       "    </tr>\n",
       "    <tr>\n",
       "      <th>3</th>\n",
       "      <td>Lingadheeranahalli</td>\n",
       "      <td>3</td>\n",
       "      <td>1521.0</td>\n",
       "      <td>3.0</td>\n",
       "      <td>95.00</td>\n",
       "      <td>6245.890861</td>\n",
       "    </tr>\n",
       "    <tr>\n",
       "      <th>4</th>\n",
       "      <td>Kothanur</td>\n",
       "      <td>2</td>\n",
       "      <td>1200.0</td>\n",
       "      <td>2.0</td>\n",
       "      <td>51.00</td>\n",
       "      <td>4250.000000</td>\n",
       "    </tr>\n",
       "    <tr>\n",
       "      <th>5</th>\n",
       "      <td>Whitefield</td>\n",
       "      <td>2</td>\n",
       "      <td>1170.0</td>\n",
       "      <td>2.0</td>\n",
       "      <td>38.00</td>\n",
       "      <td>3247.863248</td>\n",
       "    </tr>\n",
       "    <tr>\n",
       "      <th>6</th>\n",
       "      <td>Old Airport Road</td>\n",
       "      <td>4</td>\n",
       "      <td>2732.0</td>\n",
       "      <td>4.0</td>\n",
       "      <td>204.00</td>\n",
       "      <td>7467.057101</td>\n",
       "    </tr>\n",
       "    <tr>\n",
       "      <th>7</th>\n",
       "      <td>Rajaji Nagar</td>\n",
       "      <td>4</td>\n",
       "      <td>3300.0</td>\n",
       "      <td>4.0</td>\n",
       "      <td>600.00</td>\n",
       "      <td>18181.818182</td>\n",
       "    </tr>\n",
       "    <tr>\n",
       "      <th>8</th>\n",
       "      <td>Marathahalli</td>\n",
       "      <td>3</td>\n",
       "      <td>1310.0</td>\n",
       "      <td>3.0</td>\n",
       "      <td>63.25</td>\n",
       "      <td>4828.244275</td>\n",
       "    </tr>\n",
       "    <tr>\n",
       "      <th>9</th>\n",
       "      <td>others</td>\n",
       "      <td>6</td>\n",
       "      <td>1020.0</td>\n",
       "      <td>6.0</td>\n",
       "      <td>370.00</td>\n",
       "      <td>36274.509804</td>\n",
       "    </tr>\n",
       "  </tbody>\n",
       "</table>\n",
       "</div>"
      ],
      "text/plain": [
       "                   location  size  total_sqft  bath   price  price_per_sqft\n",
       "0  Electronic City Phase II     2      1056.0   2.0   39.07     3699.810606\n",
       "1          Chikka Tirupathi     4      2600.0   5.0  120.00     4615.384615\n",
       "2               Uttarahalli     3      1440.0   2.0   62.00     4305.555556\n",
       "3        Lingadheeranahalli     3      1521.0   3.0   95.00     6245.890861\n",
       "4                  Kothanur     2      1200.0   2.0   51.00     4250.000000\n",
       "5                Whitefield     2      1170.0   2.0   38.00     3247.863248\n",
       "6          Old Airport Road     4      2732.0   4.0  204.00     7467.057101\n",
       "7              Rajaji Nagar     4      3300.0   4.0  600.00    18181.818182\n",
       "8              Marathahalli     3      1310.0   3.0   63.25     4828.244275\n",
       "9                    others     6      1020.0   6.0  370.00    36274.509804"
      ]
     },
     "execution_count": 95,
     "metadata": {},
     "output_type": "execute_result"
    }
   ],
   "source": [
    "file.head(10)"
   ]
  },
  {
   "cell_type": "code",
   "execution_count": null,
   "id": "7c8ad629",
   "metadata": {},
   "outputs": [],
   "source": []
  }
 ],
 "metadata": {
  "kernelspec": {
   "display_name": "Python 3 (ipykernel)",
   "language": "python",
   "name": "python3"
  },
  "language_info": {
   "codemirror_mode": {
    "name": "ipython",
    "version": 3
   },
   "file_extension": ".py",
   "mimetype": "text/x-python",
   "name": "python",
   "nbconvert_exporter": "python",
   "pygments_lexer": "ipython3",
   "version": "3.10.2"
  }
 },
 "nbformat": 4,
 "nbformat_minor": 5
}
